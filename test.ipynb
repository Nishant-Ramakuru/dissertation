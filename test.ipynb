{
 "cells": [
  {
   "cell_type": "code",
   "execution_count": 1,
   "metadata": {},
   "outputs": [],
   "source": [
    "import numpy as np\n",
    "import math\n",
    "import pandas as pd\n",
    "import sympy as sym\n",
    "sym.init_printing()\n",
    "\n",
    "\n",
    "class Game_theory:\n",
    "    def __init__(self, tab, actions):\n",
    "        self.actions = actions\n",
    "        m = np.array(tab, dtype=[(\"x\", object), (\"y\", object)])\n",
    "        self.size = int(math.sqrt(len(tab)))\n",
    "        self.scores = m.reshape(self.size, self.size)\n",
    "\n",
    "    def Print_game(self):\n",
    "        game = pd.DataFrame(np.nan, self.actions, self.actions, dtype=object)\n",
    "        for i in range(self.size):\n",
    "            for j in range(self.size):\n",
    "                game.iat[i, j] = self.scores[i][j]\n",
    "        print(game)"
   ]
  },
  {
   "cell_type": "code",
   "execution_count": 2,
   "metadata": {},
   "outputs": [],
   "source": [
    "def compute_Nash(self):\n",
    "    max_x = np.matrix(self.scores[\"x\"].max(0)).repeat(self.size, axis=0)\n",
    "    bool_x = self.scores[\"x\"] == max_x\n",
    "    max_y = np.matrix(self.scores[\"y\"].max(1)).transpose().repeat(self.size, axis=1)\n",
    "    bool_y = self.scores[\"y\"] == max_y\n",
    "    bool_x_y = bool_x & bool_y\n",
    "    result = np.where(bool_x_y == True)\n",
    "    position = list(zip(result[0], result[1]))\n",
    "    return position"
   ]
  },
  {
   "cell_type": "code",
   "execution_count": 3,
   "metadata": {},
   "outputs": [
    {
     "name": "stdout",
     "output_type": "stream",
     "text": [
      "The position of Nash equilibrium : \n",
      "[(0, 0), (1, 1)]\n",
      "The equilibrium events : \n",
      "Dog_race Dog_race\n",
      "Ballet Ballet\n",
      "The corresponding scores : \n",
      "(4, 3)\n",
      "(3, 4)\n"
     ]
    }
   ],
   "source": [
    "battle_of_the_sexes = [(4, 3), (2, 2), (1, 1), (3, 4)]\n",
    "g = Game_theory(battle_of_the_sexes, [\"Dog_race\", \"Ballet\"])\n",
    "\n",
    "# Position of the Nash equilibriums\n",
    "position = compute_Nash(g)\n",
    "print(\"The position of Nash equilibrium : \")\n",
    "print(position)\n",
    "\n",
    "print(\"The equilibrium events : \")\n",
    "for event in position:\n",
    "    print(g.actions[event[0]], g.actions[event[1]])\n",
    "\n",
    "# We print the corresponding scores\n",
    "print(\"The corresponding scores : \")\n",
    "for event in position:\n",
    "    print(g.scores[event[0]][event[1]])"
   ]
  },
  {
   "cell_type": "markdown",
   "metadata": {},
   "source": [
    "# Dominant Stratergies"
   ]
  },
  {
   "cell_type": "code",
   "execution_count": 4,
   "metadata": {},
   "outputs": [],
   "source": [
    "def getDominantStrategies(self, strict=\"True\"):\n",
    "    dominatedLines = []\n",
    "    dominatedColumns = []\n",
    "    findDominated = True\n",
    "    while (\n",
    "        findDominated\n",
    "        and (len(dominatedLines) != self.size - 1)\n",
    "        and (len(dominatedColumns) != self.size - 1)\n",
    "    ):\n",
    "        findDominated = False\n",
    "        # dominated lines\n",
    "        for i in range(self.size - 1):\n",
    "            line1 = self.scores[\"x\"][i]\n",
    "            line2 = self.scores[\"x\"][i + 1]\n",
    "            if compare(self, line1, line2, dominatedColumns, strict):\n",
    "                if i not in dominatedLines:\n",
    "                    dominatedLines += [i]\n",
    "                    findDominated = True\n",
    "            if compare(self, line2, line1, dominatedColumns, strict):\n",
    "                if i + 1 not in dominatedLines:\n",
    "                    dominatedLines += [i + 1]\n",
    "                    findDominated = True\n",
    "        # dominated columns\n",
    "        for i in range(self.size - 1):\n",
    "            c1 = self.scores[\"y\"].transpose()[i]\n",
    "            c2 = self.scores[\"y\"].transpose()[i + 1]\n",
    "            if compare(self, c1, c2, dominatedLines, strict):\n",
    "                if i not in dominatedColumns:\n",
    "                    dominatedColumns += [i]\n",
    "                    findDominated = True\n",
    "            if compare(self, c2, c1, dominatedLines, strict):\n",
    "                if i + 1 not in dominatedColumns:\n",
    "                    dominatedColumns += [i + 1]\n",
    "                    findDominated = True\n",
    "    return result(self, dominatedLines, dominatedColumns)\n",
    "\n",
    "\n",
    "def compare(self, l1, l2, tab, strict):\n",
    "    dominated = True\n",
    "    for i in range(self.size):\n",
    "        if strict:\n",
    "            if (l1[i] < l2[i] and i not in tab) or i in tab:\n",
    "                dominated = dominated and True\n",
    "            else:\n",
    "                dominated = dominated and False\n",
    "        else:\n",
    "            if (l1[i] <= l2[i] and i not in tab) or i in tab:\n",
    "                dominated = dominated and True\n",
    "            else:\n",
    "                dominated = dominated and False\n",
    "    return dominated\n",
    "\n",
    "\n",
    "def result(self, dominatedLines, dominatedColumns):\n",
    "    x = list()\n",
    "    y = list()\n",
    "    res = list()\n",
    "\n",
    "    for i in range(self.size):\n",
    "        if i not in dominatedLines:\n",
    "            x.append(i)\n",
    "        if i not in dominatedColumns:\n",
    "            y.append(i)\n",
    "\n",
    "    for indX in x:\n",
    "        for indY in y:\n",
    "            res.append((indX, indY))\n",
    "    return res\n"
   ]
  },
  {
   "cell_type": "code",
   "execution_count": 5,
   "metadata": {},
   "outputs": [
    {
     "name": "stdout",
     "output_type": "stream",
     "text": [
      "Strongly dominated strategies method\n",
      "Non-dominated strategies indexes : \n",
      "[(0, 0), (0, 1), (1, 0), (1, 1)]\n",
      "The corresponding rounds : \n",
      "Dog_race Dog_race\n",
      "Dog_race Ballet\n",
      "Ballet Dog_race\n",
      "Ballet Ballet\n",
      "The corresponding scores : \n",
      "(4, 3)\n",
      "(2, 2)\n",
      "(1, 1)\n",
      "(3, 4)\n",
      " \n",
      "Weakly dominated strategies method\n",
      "Non-dominated strategies indexes : \n",
      "[(0, 0), (0, 1), (1, 0), (1, 1)]\n",
      "The corresponding rounds : \n",
      "Dog_race Dog_race\n",
      "Dog_race Ballet\n",
      "Ballet Dog_race\n",
      "Ballet Ballet\n",
      "The corresponding scores : \n",
      "(4, 3)\n",
      "(2, 2)\n",
      "(1, 1)\n",
      "(3, 4)\n"
     ]
    }
   ],
   "source": [
    "\n",
    "# We recover the indexes of the non-dominated strategy(ies):\n",
    "print(\"Strongly dominated strategies method\")\n",
    "listOfCoordinates = getDominantStrategies(g)\n",
    "print(\"Non-dominated strategies indexes : \")\n",
    "print(listOfCoordinates)\n",
    "\n",
    "# We print the moves corresponding to these strategies\n",
    "print(\"The corresponding rounds : \")\n",
    "for cor in listOfCoordinates : \n",
    "    print(g.actions[cor[0]], g.actions[cor[1]])\n",
    "\n",
    "# We print the corresponding scores\n",
    "print(\"The corresponding scores : \")\n",
    "for cor in listOfCoordinates : \n",
    "    print(g.scores[cor[0]][cor[1]])\n",
    "\n",
    "print(\" \")\n",
    "\n",
    "# We recover the indexes of the non-dominated strategy(ies)::\n",
    "print(\"Weakly dominated strategies method\")\n",
    "listOfCoordinates = getDominantStrategies(g, strict=\"False\")\n",
    "print(\"Non-dominated strategies indexes : \")\n",
    "print(listOfCoordinates)\n",
    "\n",
    "# We print the moves corresponding to these strategies\n",
    "print(\"The corresponding rounds : \")\n",
    "for cor in listOfCoordinates : \n",
    "    print(g.actions[cor[0]], g.actions[cor[1]])\n",
    "\n",
    "# We print the corresponding scores\n",
    "print(\"The corresponding scores : \")\n",
    "for cor in listOfCoordinates : \n",
    "    print(g.scores[cor[0]][cor[1]])"
   ]
  },
  {
   "cell_type": "markdown",
   "metadata": {},
   "source": [
    "# Mixed Strategies"
   ]
  },
  {
   "cell_type": "code",
   "execution_count": 6,
   "metadata": {},
   "outputs": [],
   "source": [
    "x, y  = sym.symbols('x, y')\n",
    "a_11, a_12, a_21, a_22 = sym.symbols('a_11. a_12, a_21, a_22')\n",
    "b_11, b_12, b_21, b_22 = sym.symbols('b_11, b_12, b_21, b_22')"
   ]
  },
  {
   "cell_type": "code",
   "execution_count": 7,
   "metadata": {},
   "outputs": [
    {
     "data": {
      "image/png": "[encoded data removed]",
      "text/latex": [
       "$\\displaystyle \\left\\{\\frac{b_{12} + b_{22}}{b_{11} + b_{12} + b_{21} + b_{22}}\\right\\}$"
      ],
      "text/plain": [
       "⎧      b₁₂ + b₂₂      ⎫\n",
       "⎨─────────────────────⎬\n",
       "⎩b₁₁ + b₁₂ + b₂₁ + b₂₂⎭"
      ]
     },
     "execution_count": 7,
     "metadata": {},
     "output_type": "execute_result"
    }
   ],
   "source": [
    "sym.solveset(y * (b_11 + b_21) -((1-y) * (b_12 + b_22)), y)"
   ]
  },
  {
   "cell_type": "code",
   "execution_count": 8,
   "metadata": {},
   "outputs": [
    {
     "data": {
      "image/png": "[encoded data removed]",
      "text/latex": [
       "$\\displaystyle \\left\\{\\frac{a_{12} + a_{22}}{a_{11.} + a_{12} + a_{21} + a_{22}}\\right\\}$"
      ],
      "text/plain": [
       "⎧       a₁₂ + a₂₂       ⎫\n",
       "⎨───────────────────────⎬\n",
       "⎩a_11. + a₁₂ + a₂₁ + a₂₂⎭"
      ]
     },
     "execution_count": 8,
     "metadata": {},
     "output_type": "execute_result"
    }
   ],
   "source": [
    "sym.solveset(x * (a_11 + a_21) -((1-x) * (a_12 + a_22)), x)"
   ]
  },
  {
   "cell_type": "code",
   "execution_count": null,
   "metadata": {},
   "outputs": [],
   "source": []
  }
 ],
 "metadata": {
  "kernelspec": {
   "display_name": "Python 3",
   "language": "python",
   "name": "python3"
  },
  "language_info": {
   "codemirror_mode": {
    "name": "ipython",
    "version": 3
   },
   "file_extension": ".py",
   "mimetype": "text/x-python",
   "name": "python",
   "nbconvert_exporter": "python",
   "pygments_lexer": "ipython3",
   "version": "3.7.5"
  }
 },
 "nbformat": 4,
 "nbformat_minor": 2
}
