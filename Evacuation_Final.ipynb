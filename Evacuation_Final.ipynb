{
 "cells": [
  {
   "cell_type": "code",
   "execution_count": 1,
   "metadata": {
    "colab": {},
    "colab_type": "code",
    "id": "jgB0gctKC_GZ"
   },
   "outputs": [],
   "source": [
    "import threading\n",
    "import time\n",
    "import csv\n",
    "import pickle\n",
    "import os\n",
    "import sys\n",
    "import signal\n",
    "import random\n",
    "import time\n",
    "import random\n",
    "from tkinter import *\n",
    "import matplotlib.pyplot as plt\n",
    "import numpy as np\n",
    "import random\n",
    "room = np.load('room_10.npy')"
   ]
  },
  {
   "cell_type": "code",
   "execution_count": 2,
   "metadata": {
    "colab": {},
    "colab_type": "code",
    "id": "01R8fEqMC_Gz"
   },
   "outputs": [],
   "source": [
    "class Agent:\n",
    "    def __init__(self, number, current_state, states, score):\n",
    "        self.id = number\n",
    "        self.current_state = current_state\n",
    "        self.states = states\n",
    "        self.score = score\n",
    "        self.payoff = payoff"
   ]
  },
  {
   "cell_type": "code",
   "execution_count": 3,
   "metadata": {
    "colab": {},
    "colab_type": "code",
    "id": "B3-L1BMvC_G8"
   },
   "outputs": [],
   "source": [
    "class Room:\n",
    "    def __init__(self,number_of_agents,room): \n",
    "        self.number_of_agents = number_of_agents\n",
    "        self.nrows, self.ncols = room.shape\n",
    "        self.target = (int(((self.nrows-1)/2)), self.ncols-1)   \n",
    "        self.free_cells = [(r,c) for r in range(self.nrows) for c in range(self.ncols) if room[r,c] == 1.0]\n",
    "        self.walls = [(r,c) for r in range(self.nrows) for c in range(self.ncols) if room[r,c] == 0.0]\n",
    "        self.agents = []\n",
    "        self.valid = [True for i in range(number_of_agents)]\n",
    "        self.space = room\n",
    "        \n",
    "    def create_agents(self):\n",
    "        initial_places = random.sample(self.free_cells, self.number_of_agents)\n",
    "        for i, j in initial_places:\n",
    "            self.space[i][j] = 0.5\n",
    "        self.agents = [Agent(i, {\"X\": j[0],\"Y\":j[1]}, [{\"X\": j[0],\"Y\":j[1]}], 0.0 ) for i, j in zip(list(range(self.number_of_agents)), initial_places)]\n",
    "        \n",
    "        \n",
    "    def update_state(self, new_states):\n",
    "        for i, state in enumerate(new_states):\n",
    "            if self.valid[i]:  \n",
    "                self.space[agents[i].current_state[0]][agents[i].current_state[1]] = 1\n",
    "                self.agents[i].states.append(state)\n",
    "                if state == self.target:\n",
    "                    self.valid[i] = False\n",
    "                    self.space[state[0]][state[1]] = 1\n",
    "                else:\n",
    "                    self.space[state[0]][state[1]] = 0.5\n",
    "                self.agents[i].current_state = state  \n",
    "                \n",
    "    def get_agents(self):\n",
    "        return self.agents"
   ]
  },
  {
   "cell_type": "code",
   "execution_count": 4,
   "metadata": {
    "colab": {},
    "colab_type": "code",
    "id": "1l3Z6fd2C_Hz"
   },
   "outputs": [],
   "source": [
    "class GUI:\n",
    "    \n",
    "    def __init__(self,cell_width,room):\n",
    "        \n",
    "        self.cell_width = cell_width\n",
    "        self.room = room\n",
    "        self.shape = room.shape\n",
    "        self.nrows, self.ncols = room.shape\n",
    "        self.door = [(self.shape[0]-1, int(((self.shape[1]-1)/2)), \"red\", 30)]\n",
    "        self.walls = [(r,c) for r in range(self.nrows) for c in range(self.ncols) if room[r,c] == 0.0]\n",
    "        \n",
    "    \n",
    "    def gui_simulation(self):\n",
    "\n",
    "        self.master = Tk()\n",
    "        self.master.geometry('500x500')\n",
    "        self.room_gui = Canvas(self.master, width=self.shape[0]*self.cell_width, height=self.shape[1]*self.cell_width, bg = 'blue')\n",
    "\n",
    "    def render_grid(self,agents):\n",
    "        \n",
    "        agents_gui = list()\n",
    "        for i in range(self.shape[0]-1):\n",
    "            for j in range(self.shape[1]-1):\n",
    "                self.room_gui.create_rectangle(i*self.cell_width, j*self.cell_width, (i+1)*self.cell_width, (j+1)*self.cell_width, fill=\"white\", width=1)\n",
    "        for (i, j) in self.walls:\n",
    "            self.room_gui.create_rectangle(i*self.cell_width, j*self.cell_width, (i+1)*self.cell_width, (j+1)*self.cell_width, fill=\"black\", width=1)\n",
    "        for (i, j, c, w) in self.door:\n",
    "            self.room_gui.create_rectangle(i*self.cell_width, j*self.cell_width, (i+1)*self.cell_width, (j+1)*self.cell_width, fill=\"red\", width=1)\n",
    "        for agent in agents:\n",
    "            agent_gui =self.room_gui.create_oval(agent.current_state['X']*self.cell_width, agent.current_state['Y']*self.cell_width, (agent.current_state['X']+1)*self.cell_width, (agent.current_state['Y']+1)*self.cell_width, fill=\"blue\", width=1)\n",
    "            agents_gui.append(agent_gui)\n",
    "        \n",
    "        self.room_gui.pack()\n",
    "        self.master.mainloop()\n",
    "        \n",
    "        return agents_gui\n",
    "        \n",
    "    def update_gui(self,agents,agent_gui):\n",
    "        agents_gui_new = list()\n",
    "        for agent,agent_gui in zip(agents,agents_gui):\n",
    "            agent_gui = self.room_gui.coords(agent_gui,agent.current_state['X']*self.cell_width, agent.current_state['Y']*self.cell_width, (agent.current_state['X']+1)*self.cell_width, (agent.current_state['Y']+1)*self.cell_width, fill=\"blue\", width=1)\n",
    "            agents_gui_new.append(agent_gui)\n",
    "        \n",
    "        return agent_gui_new"
   ]
  },
  {
   "cell_type": "code",
   "execution_count": 5,
   "metadata": {},
   "outputs": [],
   "source": [
    "R = Room(10,room)\n",
    "G = GUI(50,room)\n",
    "G.gui_simulation()"
   ]
  },
  {
   "cell_type": "code",
   "execution_count": 6,
   "metadata": {},
   "outputs": [],
   "source": [
    "R.create_agents()\n",
    "agents = R.get_agents()\n",
    "agents_gui = G.render_grid(agents)"
   ]
  },
  {
   "cell_type": "code",
   "execution_count": 8,
   "metadata": {},
   "outputs": [],
   "source": [
    "class action:\n",
    "    \n",
    "    def go_left(self,agent):\n",
    "        new_state = agent.current_state['X']-1, agent.current_state['Y']\n",
    "        \n",
    "        return new_state\n",
    "\n",
    "    def go_right(self,agent):\n",
    "        new_state = agent.current_state['X']+1, agent.current_state['Y']\n",
    "        \n",
    "        return new_state\n",
    "\n",
    "    def go_up(self,agent):\n",
    "        new_state = agent.current_state['X'], agent.current_state['Y']+1\n",
    "\n",
    "        return new_state\n",
    "    \n",
    "    def go_down(self,agent):\n",
    "        new_state = agent.current_state['X'], agent.current_state['Y']\n",
    "    \n",
    "        return new_state\n",
    "    "
   ]
  },
  {
   "cell_type": "code",
   "execution_count": 9,
   "metadata": {},
   "outputs": [],
   "source": [
    "class Game_Theory:\n",
    "    #def __init__(self):\n",
    "        \n",
    "    \n",
    "    def position_update(self):\n",
    "        new_states = list()\n",
    "        for agent in self.agents:\n",
    "            new_state = go_left(agent)\n",
    "            new_states.append(new_state)\n",
    "        \n",
    "        R.update_state(new_states)\n",
    "        self.agents = R.get_agents\n",
    "        agents_gui = G.update_gui(self.agents, agents_gui)\n",
    "        \n",
    "        \n",
    "        return self.agents\n",
    "    \n",
    "    def simulate(self):\n",
    "        for generation in range(self.generation_count):\n",
    "            self.single_generation()\n",
    "            \n",
    "    def single_generation():\n",
    "        self.reset_players()\n",
    "        new_states = []\n",
    "        for agent in self.agents:\n",
    "            agent_action = self.compute_action(agent)\n",
    "            \n",
    "            if agent_action == \"LEFT\":\n",
    "                new_state = action.go_left(agent)\n",
    "            elif agent_action == \"RIGHT\":\n",
    "                new_state = action.go_right(agent)\n",
    "            elif agent_action == \"UP\":\n",
    "                new_state = action.go_up(agent)\n",
    "            elif agent_action == \"DOWN\":\n",
    "                new_state = action.go_down(agent)\n",
    "                \n",
    "            new_states.append(new_state)\n",
    "            \n",
    "        R.update_state(new_states)\n",
    "        self.agents = R.get_agents\n",
    "        agents_gui = G.render_grid(agents)\n",
    "    \n",
    "                \n",
    "            \n",
    "                \n",
    "                \n",
    "        \n",
    "        \n",
    "            \n",
    "        "
   ]
  },
  {
   "cell_type": "code",
   "execution_count": 10,
   "metadata": {
    "collapsed": true
   },
   "outputs": [
    {
     "ename": "TclError",
     "evalue": "invalid command name \".!canvas\"",
     "output_type": "error",
     "traceback": [
      "\u001b[0;31m---------------------------------------------------------------------------\u001b[0m",
      "\u001b[0;31mTclError\u001b[0m                                  Traceback (most recent call last)",
      "\u001b[0;32m<ipython-input-10-6fa3da977ef6>\u001b[0m in \u001b[0;36m<module>\u001b[0;34m\u001b[0m\n\u001b[0;32m----> 1\u001b[0;31m \u001b[0mG\u001b[0m\u001b[0;34m.\u001b[0m\u001b[0mrender_grid\u001b[0m\u001b[0;34m(\u001b[0m\u001b[0magents\u001b[0m\u001b[0;34m)\u001b[0m\u001b[0;34m\u001b[0m\u001b[0;34m\u001b[0m\u001b[0m\n\u001b[0m\u001b[1;32m      2\u001b[0m \u001b[0mtime\u001b[0m\u001b[0;34m.\u001b[0m\u001b[0msleep\u001b[0m\u001b[0;34m(\u001b[0m\u001b[0;36m3\u001b[0m\u001b[0;34m)\u001b[0m\u001b[0;34m\u001b[0m\u001b[0;34m\u001b[0m\u001b[0m\n\u001b[1;32m      3\u001b[0m \u001b[0magents\u001b[0m \u001b[0;34m=\u001b[0m \u001b[0mGame_Theory\u001b[0m\u001b[0;34m.\u001b[0m\u001b[0mposition_update\u001b[0m\u001b[0;34m\u001b[0m\u001b[0;34m\u001b[0m\u001b[0m\n\u001b[1;32m      4\u001b[0m \u001b[0mG\u001b[0m\u001b[0;34m.\u001b[0m\u001b[0mrender_grid\u001b[0m\u001b[0;34m(\u001b[0m\u001b[0magents\u001b[0m\u001b[0;34m)\u001b[0m\u001b[0;34m\u001b[0m\u001b[0;34m\u001b[0m\u001b[0m\n",
      "\u001b[0;32m<ipython-input-4-60d853585daf>\u001b[0m in \u001b[0;36mrender_grid\u001b[0;34m(self, agents)\u001b[0m\n\u001b[1;32m     22\u001b[0m         \u001b[0;32mfor\u001b[0m \u001b[0mi\u001b[0m \u001b[0;32min\u001b[0m \u001b[0mrange\u001b[0m\u001b[0;34m(\u001b[0m\u001b[0mself\u001b[0m\u001b[0;34m.\u001b[0m\u001b[0mshape\u001b[0m\u001b[0;34m[\u001b[0m\u001b[0;36m0\u001b[0m\u001b[0;34m]\u001b[0m\u001b[0;34m-\u001b[0m\u001b[0;36m1\u001b[0m\u001b[0;34m)\u001b[0m\u001b[0;34m:\u001b[0m\u001b[0;34m\u001b[0m\u001b[0;34m\u001b[0m\u001b[0m\n\u001b[1;32m     23\u001b[0m             \u001b[0;32mfor\u001b[0m \u001b[0mj\u001b[0m \u001b[0;32min\u001b[0m \u001b[0mrange\u001b[0m\u001b[0;34m(\u001b[0m\u001b[0mself\u001b[0m\u001b[0;34m.\u001b[0m\u001b[0mshape\u001b[0m\u001b[0;34m[\u001b[0m\u001b[0;36m1\u001b[0m\u001b[0;34m]\u001b[0m\u001b[0;34m-\u001b[0m\u001b[0;36m1\u001b[0m\u001b[0;34m)\u001b[0m\u001b[0;34m:\u001b[0m\u001b[0;34m\u001b[0m\u001b[0;34m\u001b[0m\u001b[0m\n\u001b[0;32m---> 24\u001b[0;31m                 \u001b[0mself\u001b[0m\u001b[0;34m.\u001b[0m\u001b[0mroom_gui\u001b[0m\u001b[0;34m.\u001b[0m\u001b[0mcreate_rectangle\u001b[0m\u001b[0;34m(\u001b[0m\u001b[0mi\u001b[0m\u001b[0;34m*\u001b[0m\u001b[0mself\u001b[0m\u001b[0;34m.\u001b[0m\u001b[0mcell_width\u001b[0m\u001b[0;34m,\u001b[0m \u001b[0mj\u001b[0m\u001b[0;34m*\u001b[0m\u001b[0mself\u001b[0m\u001b[0;34m.\u001b[0m\u001b[0mcell_width\u001b[0m\u001b[0;34m,\u001b[0m \u001b[0;34m(\u001b[0m\u001b[0mi\u001b[0m\u001b[0;34m+\u001b[0m\u001b[0;36m1\u001b[0m\u001b[0;34m)\u001b[0m\u001b[0;34m*\u001b[0m\u001b[0mself\u001b[0m\u001b[0;34m.\u001b[0m\u001b[0mcell_width\u001b[0m\u001b[0;34m,\u001b[0m \u001b[0;34m(\u001b[0m\u001b[0mj\u001b[0m\u001b[0;34m+\u001b[0m\u001b[0;36m1\u001b[0m\u001b[0;34m)\u001b[0m\u001b[0;34m*\u001b[0m\u001b[0mself\u001b[0m\u001b[0;34m.\u001b[0m\u001b[0mcell_width\u001b[0m\u001b[0;34m,\u001b[0m \u001b[0mfill\u001b[0m\u001b[0;34m=\u001b[0m\u001b[0;34m\"white\"\u001b[0m\u001b[0;34m,\u001b[0m \u001b[0mwidth\u001b[0m\u001b[0;34m=\u001b[0m\u001b[0;36m1\u001b[0m\u001b[0;34m)\u001b[0m\u001b[0;34m\u001b[0m\u001b[0;34m\u001b[0m\u001b[0m\n\u001b[0m\u001b[1;32m     25\u001b[0m         \u001b[0;32mfor\u001b[0m \u001b[0;34m(\u001b[0m\u001b[0mi\u001b[0m\u001b[0;34m,\u001b[0m \u001b[0mj\u001b[0m\u001b[0;34m)\u001b[0m \u001b[0;32min\u001b[0m \u001b[0mself\u001b[0m\u001b[0;34m.\u001b[0m\u001b[0mwalls\u001b[0m\u001b[0;34m:\u001b[0m\u001b[0;34m\u001b[0m\u001b[0;34m\u001b[0m\u001b[0m\n\u001b[1;32m     26\u001b[0m             \u001b[0mself\u001b[0m\u001b[0;34m.\u001b[0m\u001b[0mroom_gui\u001b[0m\u001b[0;34m.\u001b[0m\u001b[0mcreate_rectangle\u001b[0m\u001b[0;34m(\u001b[0m\u001b[0mi\u001b[0m\u001b[0;34m*\u001b[0m\u001b[0mself\u001b[0m\u001b[0;34m.\u001b[0m\u001b[0mcell_width\u001b[0m\u001b[0;34m,\u001b[0m \u001b[0mj\u001b[0m\u001b[0;34m*\u001b[0m\u001b[0mself\u001b[0m\u001b[0;34m.\u001b[0m\u001b[0mcell_width\u001b[0m\u001b[0;34m,\u001b[0m \u001b[0;34m(\u001b[0m\u001b[0mi\u001b[0m\u001b[0;34m+\u001b[0m\u001b[0;36m1\u001b[0m\u001b[0;34m)\u001b[0m\u001b[0;34m*\u001b[0m\u001b[0mself\u001b[0m\u001b[0;34m.\u001b[0m\u001b[0mcell_width\u001b[0m\u001b[0;34m,\u001b[0m \u001b[0;34m(\u001b[0m\u001b[0mj\u001b[0m\u001b[0;34m+\u001b[0m\u001b[0;36m1\u001b[0m\u001b[0;34m)\u001b[0m\u001b[0;34m*\u001b[0m\u001b[0mself\u001b[0m\u001b[0;34m.\u001b[0m\u001b[0mcell_width\u001b[0m\u001b[0;34m,\u001b[0m \u001b[0mfill\u001b[0m\u001b[0;34m=\u001b[0m\u001b[0;34m\"black\"\u001b[0m\u001b[0;34m,\u001b[0m \u001b[0mwidth\u001b[0m\u001b[0;34m=\u001b[0m\u001b[0;36m1\u001b[0m\u001b[0;34m)\u001b[0m\u001b[0;34m\u001b[0m\u001b[0;34m\u001b[0m\u001b[0m\n",
      "\u001b[0;32m~/miniconda3/lib/python3.7/tkinter/__init__.py\u001b[0m in \u001b[0;36mcreate_rectangle\u001b[0;34m(self, *args, **kw)\u001b[0m\n\u001b[1;32m   2499\u001b[0m     \u001b[0;32mdef\u001b[0m \u001b[0mcreate_rectangle\u001b[0m\u001b[0;34m(\u001b[0m\u001b[0mself\u001b[0m\u001b[0;34m,\u001b[0m \u001b[0;34m*\u001b[0m\u001b[0margs\u001b[0m\u001b[0;34m,\u001b[0m \u001b[0;34m**\u001b[0m\u001b[0mkw\u001b[0m\u001b[0;34m)\u001b[0m\u001b[0;34m:\u001b[0m\u001b[0;34m\u001b[0m\u001b[0;34m\u001b[0m\u001b[0m\n\u001b[1;32m   2500\u001b[0m         \u001b[0;34m\"\"\"Create rectangle with coordinates x1,y1,x2,y2.\"\"\"\u001b[0m\u001b[0;34m\u001b[0m\u001b[0;34m\u001b[0m\u001b[0m\n\u001b[0;32m-> 2501\u001b[0;31m         \u001b[0;32mreturn\u001b[0m \u001b[0mself\u001b[0m\u001b[0;34m.\u001b[0m\u001b[0m_create\u001b[0m\u001b[0;34m(\u001b[0m\u001b[0;34m'rectangle'\u001b[0m\u001b[0;34m,\u001b[0m \u001b[0margs\u001b[0m\u001b[0;34m,\u001b[0m \u001b[0mkw\u001b[0m\u001b[0;34m)\u001b[0m\u001b[0;34m\u001b[0m\u001b[0;34m\u001b[0m\u001b[0m\n\u001b[0m\u001b[1;32m   2502\u001b[0m     \u001b[0;32mdef\u001b[0m \u001b[0mcreate_text\u001b[0m\u001b[0;34m(\u001b[0m\u001b[0mself\u001b[0m\u001b[0;34m,\u001b[0m \u001b[0;34m*\u001b[0m\u001b[0margs\u001b[0m\u001b[0;34m,\u001b[0m \u001b[0;34m**\u001b[0m\u001b[0mkw\u001b[0m\u001b[0;34m)\u001b[0m\u001b[0;34m:\u001b[0m\u001b[0;34m\u001b[0m\u001b[0;34m\u001b[0m\u001b[0m\n\u001b[1;32m   2503\u001b[0m         \u001b[0;34m\"\"\"Create text with coordinates x1,y1.\"\"\"\u001b[0m\u001b[0;34m\u001b[0m\u001b[0;34m\u001b[0m\u001b[0m\n",
      "\u001b[0;32m~/miniconda3/lib/python3.7/tkinter/__init__.py\u001b[0m in \u001b[0;36m_create\u001b[0;34m(self, itemType, args, kw)\u001b[0m\n\u001b[1;32m   2478\u001b[0m         return self.tk.getint(self.tk.call(\n\u001b[1;32m   2479\u001b[0m             \u001b[0mself\u001b[0m\u001b[0;34m.\u001b[0m\u001b[0m_w\u001b[0m\u001b[0;34m,\u001b[0m \u001b[0;34m'create'\u001b[0m\u001b[0;34m,\u001b[0m \u001b[0mitemType\u001b[0m\u001b[0;34m,\u001b[0m\u001b[0;34m\u001b[0m\u001b[0;34m\u001b[0m\u001b[0m\n\u001b[0;32m-> 2480\u001b[0;31m             *(args + self._options(cnf, kw))))\n\u001b[0m\u001b[1;32m   2481\u001b[0m     \u001b[0;32mdef\u001b[0m \u001b[0mcreate_arc\u001b[0m\u001b[0;34m(\u001b[0m\u001b[0mself\u001b[0m\u001b[0;34m,\u001b[0m \u001b[0;34m*\u001b[0m\u001b[0margs\u001b[0m\u001b[0;34m,\u001b[0m \u001b[0;34m**\u001b[0m\u001b[0mkw\u001b[0m\u001b[0;34m)\u001b[0m\u001b[0;34m:\u001b[0m\u001b[0;34m\u001b[0m\u001b[0;34m\u001b[0m\u001b[0m\n\u001b[1;32m   2482\u001b[0m         \u001b[0;34m\"\"\"Create arc shaped region with coordinates x1,y1,x2,y2.\"\"\"\u001b[0m\u001b[0;34m\u001b[0m\u001b[0;34m\u001b[0m\u001b[0m\n",
      "\u001b[0;31mTclError\u001b[0m: invalid command name \".!canvas\""
     ]
    }
   ],
   "source": [
    "G.render_grid(agents)\n",
    "time.sleep(3)\n",
    "agents = Game_Theory.position_update\n",
    "G.render_grid(agents)"
   ]
  },
  {
   "cell_type": "code",
   "execution_count": null,
   "metadata": {},
   "outputs": [],
   "source": []
  }
 ],
 "metadata": {
  "colab": {
   "collapsed_sections": [],
   "name": "Evacuation_Final.ipynb",
   "provenance": []
  },
  "kernelspec": {
   "display_name": "Python 3",
   "language": "python",
   "name": "python3"
  },
  "language_info": {
   "codemirror_mode": {
    "name": "ipython",
    "version": 3
   },
   "file_extension": ".py",
   "mimetype": "text/x-python",
   "name": "python",
   "nbconvert_exporter": "python",
   "pygments_lexer": "ipython3",
   "version": "3.7.5"
  }
 },
 "nbformat": 4,
 "nbformat_minor": 1
}
